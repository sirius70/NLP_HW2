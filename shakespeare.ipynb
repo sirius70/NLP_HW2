{
  "nbformat": 4,
  "nbformat_minor": 0,
  "metadata": {
    "colab": {
      "name": "PS1-Shakespeare.ipynb",
      "provenance": [],
      "gpuType": "V5E1",
      "include_colab_link": true
    },
    "kernelspec": {
      "name": "python3",
      "display_name": "Python 3"
    },
    "accelerator": "TPU"
  },
  "cells": [
    {
      "cell_type": "markdown",
      "metadata": {
        "id": "view-in-github",
        "colab_type": "text"
      },
      "source": [
        "<a href=\"https://colab.research.google.com/github/sirius70/NLP_HW2/blob/main/shakespeare.ipynb\" target=\"_parent\"><img src=\"https://colab.research.google.com/assets/colab-badge.svg\" alt=\"Open In Colab\"/></a>"
      ]
    },
    {
      "cell_type": "markdown",
      "metadata": {
        "id": "ghmXbcymaHxC"
      },
      "source": [
        "# Interpreting Classifier Weights\n",
        "\n",
        "In this experiment, you will train models to distringuish examples of two different genres of Shakespeare's plays: comedies and tragedies. (We'll ignore the histories, sonnets, etc.) Since he died four hundred years ago, Shakespeare has not written any more plays—although scraps of various other works have come to light. We are not, therefore, interested in building models simply to help categorize an unbounded stream of future documents, as we might be in other applications of text classification; rather, we are interested in what a classifier might have to tell us about what we mean by the terms “comedy” and “tragedy”.\n",
        "\n",
        "You will start by copying and running your `createBasicFeatures` function from the experiment with movie reviews. Do the features the classifier focuses on tell you much about comedy and tragedy in general?\n",
        "\n",
        "You will then implement another featurization function `createInterestingFeatures`, which will focus on only those features you think are informative for distinguishing between comedy and tragedy. Accuracy on leave-one-out cross-validation may go up, but it more important to look at the features given the highest weight by the classifier. Interpretability in machine learning, of course, may be harder to define than accuracy—although accuracy at some tasks is hard enoough."
      ]
    },
    {
      "cell_type": "code",
      "metadata": {
        "id": "AdVS67_HNRmW"
      },
      "source": [
        "import json\n",
        "import requests\n",
        "from sklearn.linear_model import LogisticRegression\n",
        "from sklearn.model_selection import cross_validate,LeaveOneOut\n",
        "import numpy as np\n",
        "from sklearn.feature_extraction.text import CountVectorizer\n",
        "import re"
      ],
      "execution_count": 1,
      "outputs": []
    },
    {
      "cell_type": "code",
      "metadata": {
        "id": "PzjMY8fYQbB6"
      },
      "source": [
        "#read in the shakespeare corpus\n",
        "def readShakespeare():\n",
        "  raw = requests.get(\"https://raw.githubusercontent.com/dasmiq/cs6120-assignment2/refs/heads/main/shakespeare_plays.json\").text.strip()\n",
        "  corpus = [json.loads(line) for line in raw.split(\"\\n\")]\n",
        "\n",
        "  #remove histories from the data, as we're only working with tragedies and comedies\n",
        "  corpus = [entry for entry in corpus if entry[\"genre\"] != \"history\"]\n",
        "  return corpus"
      ],
      "execution_count": 2,
      "outputs": []
    },
    {
      "cell_type": "markdown",
      "metadata": {
        "id": "v0r3oL3TdHIU"
      },
      "source": [
        "This is where you will implement two functions to featurize the data:"
      ]
    },
    {
      "cell_type": "code",
      "source": [
        "# TODO: Implement createBasicFeatures\n",
        "# NB: The current contents are for testing only\n",
        "# This function should return:\n",
        "#  -a sparse numpy matrix of document features\n",
        "#  -a list of the correct genre for each document\n",
        "#  -a list of the vocabulary used by the features, such that the ith term of the\n",
        "#    list is the word whose counts appear in the ith column of the matrix.\n",
        "\n",
        "# This function should create a feature representation using all tokens that\n",
        "# contain an alphabetic character.\n",
        "\n",
        "def createBasicFeatures(corpus):\n",
        "    # Extract texts and genres\n",
        "    texts = [entry[\"text\"] for entry in corpus]\n",
        "    genres = [entry[\"genre\"] for entry in corpus]\n",
        "\n",
        "    # Create vectorizer that uses all tokens containing alphabetic characters\n",
        "    vectorizer = CountVectorizer(\n",
        "        token_pattern=r'[a-zA-Z]+'  # This pattern matches tokens with at least one alphabetic character\n",
        "    )\n",
        "\n",
        "    # Transform texts to feature matrix\n",
        "    X = vectorizer.fit_transform(texts)\n",
        "\n",
        "    # Get vocabulary\n",
        "    vocab = vectorizer.get_feature_names_out().tolist()\n",
        "\n",
        "    return X, genres, vocab"
      ],
      "metadata": {
        "id": "aaqRpw51BNh8"
      },
      "execution_count": 3,
      "outputs": []
    },
    {
      "cell_type": "code",
      "source": [
        "# TODO: Implement createInterestingFeatures. Describe your features and what\n",
        "# they might tell you about the difference between comedy and tragedy.\n",
        "# This function can add other features you want that help classification\n",
        "# accuracy, such as bigrams, word prefixes and suffixes, etc.\n",
        "\n",
        "\"\"\"\n",
        "    Creates bigram features for classification.\n",
        "\n",
        "    Features:\n",
        "      - Only bigrams (sequences of two consecutive words).\n",
        "      - Captures short phrases that may signal genre differences.\n",
        "        For example:\n",
        "            - Comedy might have bigrams like \"funny joke\", \"haha laugh\".\n",
        "            - Tragedy might have bigrams like \"death scene\", \"dark fate\".\n",
        "\n",
        "    Returns:\n",
        "      - X: sparse matrix of bigram features\n",
        "      - y: list of correct genres (labels)\n",
        "      - vocab: list of bigram features in the vocabulary\n",
        "  \"\"\"\n",
        "\n",
        "def createInterestingFeatures(corpus):\n",
        "  texts = [entry[\"text\"] for entry in corpus]\n",
        "  genres = [entry[\"genre\"] for entry in corpus]\n",
        "\n",
        "  vectorizer = CountVectorizer(\n",
        "      ngram_range=(2, 2),     # only bigrams\n",
        "      token_pattern=r'[a-zA-Z]+'  # keep tokens with alphabetic chars\n",
        "  )\n",
        "\n",
        "  X = vectorizer.fit_transform(texts)\n",
        "  vocab = vectorizer.get_feature_names_out()\n",
        "\n",
        "  return X, genres, vocab\n"
      ],
      "metadata": {
        "id": "1vtqqeajtcpy"
      },
      "execution_count": 10,
      "outputs": []
    },
    {
      "cell_type": "code",
      "metadata": {
        "id": "KfTBqBltXe7Y"
      },
      "source": [
        "#given a numpy matrix representation of the features for the training set, the\n",
        "# vector of true classes for each example, and the vocabulary as described\n",
        "# above, this computes the accuracy of the model using leave one out cross\n",
        "# validation and reports the most indicative features for each class\n",
        "def evaluateModel(X,y,vocab,penalty=\"l1\"):\n",
        "  #create and fit the model\n",
        "  model = LogisticRegression(penalty=penalty,solver=\"liblinear\")\n",
        "  results = cross_validate(model,X,y,cv=LeaveOneOut())\n",
        "\n",
        "  #determine the average accuracy\n",
        "  scores = results[\"test_score\"]\n",
        "  avg_score = sum(scores)/len(scores)\n",
        "\n",
        "  #determine the most informative features\n",
        "  # this requires us to fit the model to everything, because we need a\n",
        "  # single model to draw coefficients from, rather than 26\n",
        "  model.fit(X,y)\n",
        "  neg_class_prob_sorted = model.coef_[0, :].argsort()\n",
        "  pos_class_prob_sorted = (-model.coef_[0, :]).argsort()\n",
        "\n",
        "  termsToTake = 20\n",
        "  pos_indicators = [vocab[i] for i in neg_class_prob_sorted[:termsToTake]]\n",
        "  neg_indicators = [vocab[i] for i in pos_class_prob_sorted[:termsToTake]]\n",
        "\n",
        "  return avg_score,pos_indicators,neg_indicators\n",
        "\n",
        "def runEvaluation(X,y,vocab):\n",
        "  print(\"----------L1 Norm-----------\")\n",
        "  avg_score,pos_indicators,neg_indicators = evaluateModel(X,y,vocab,\"l1\")\n",
        "  print(\"The model's average accuracy is %f\"%avg_score)\n",
        "  print(\"The most informative terms for pos are: %s\"%pos_indicators)\n",
        "  print(\"The most informative terms for neg are: %s\"%neg_indicators)\n",
        "  #this call will fit a model with L2 normalization\n",
        "  print(\"----------L2 Norm-----------\")\n",
        "  avg_score,pos_indicators,neg_indicators = evaluateModel(X,y,vocab,\"l2\")\n",
        "  print(\"The model's average accuracy is %f\"%avg_score)\n",
        "  print(\"The most informative terms for pos are: %s\"%pos_indicators)\n",
        "  print(\"The most informative terms for neg are: %s\"%neg_indicators)\n"
      ],
      "execution_count": 11,
      "outputs": []
    },
    {
      "cell_type": "code",
      "metadata": {
        "id": "mtlbg_aqdcW_"
      },
      "source": [
        "corpus = readShakespeare()"
      ],
      "execution_count": 7,
      "outputs": []
    },
    {
      "cell_type": "markdown",
      "metadata": {
        "id": "vpCqIhiqdhen"
      },
      "source": [
        "Run the following to train and evaluate two models with basic features:"
      ]
    },
    {
      "cell_type": "code",
      "metadata": {
        "id": "4IpJ7PKjvc8I",
        "outputId": "acb28607-6d99-4782-b038-c602c2ac2c16",
        "colab": {
          "base_uri": "https://localhost:8080/"
        }
      },
      "source": [
        "X,y,vocab = createBasicFeatures(corpus)\n",
        "runEvaluation(X, y, vocab)"
      ],
      "execution_count": 8,
      "outputs": [
        {
          "output_type": "stream",
          "name": "stdout",
          "text": [
            "----------L1 Norm-----------\n",
            "The model's average accuracy is 0.615385\n",
            "The most informative terms for pos are: ['you', 'helena', 'prospero', 'duke', 'sir', 'i', 'leontes', 'a', 'of', 'presently', 'preservers', 'preserver', 'preserved', 'pretty', 'prettiness', 'prettily', 'prettiest', 'prettier', 'presentment', 'preserving']\n",
            "The most informative terms for neg are: ['him', 's', 'iago', 'imogen', 'o', 'brutus', 'lear', 'what', 'ham', 'and', 'rom', 'presentation', 'prettily', 'prettiest', 'prettier', 'pretia', 'pretext', 'pretense', 'pretending', 'presenters']\n",
            "----------L2 Norm-----------\n",
            "The model's average accuracy is 0.769231\n",
            "The most informative terms for pos are: ['i', 'you', 'duke', 'prospero', 'a', 'helena', 'your', 'antonio', 'sir', 'leontes', 'hermia', 'for', 'lysander', 'ariel', 'sebastian', 'demetrius', 'camillo', 'stephano', 'me', 'parolles']\n",
            "The most informative terms for neg are: ['iago', 'othello', 's', 'him', 'imogen', 'what', 'lear', 'brutus', 'his', 'cassio', 'o', 'ham', 'our', 'desdemona', 'rom', 'romeo', 'posthumus', 'nurse', 'caesar', 'thy']\n"
          ]
        }
      ]
    },
    {
      "cell_type": "markdown",
      "metadata": {
        "id": "_FmW9F6ZdoyM"
      },
      "source": [
        "Run the following to train and evaluate two models with features that are interesting for distinguishing comedy and tragedy:"
      ]
    },
    {
      "cell_type": "code",
      "metadata": {
        "id": "BW0Ajs2MdtIC",
        "outputId": "f73e527b-5f53-4ba7-94c0-4f887cca752a",
        "colab": {
          "base_uri": "https://localhost:8080/"
        }
      },
      "source": [
        "X,y,vocab = createInterestingFeatures(corpus)\n",
        "runEvaluation(X, y, vocab)"
      ],
      "execution_count": 12,
      "outputs": [
        {
          "output_type": "stream",
          "name": "stdout",
          "text": [
            "----------L1 Norm-----------\n",
            "The model's average accuracy is 0.730769\n",
            "The most informative terms for pos are: ['not a', 'and i', 'me and', 'which is', 'the duke', 'if you', 'she is', 'you have', 'to me', 'my love', 'the king', 'as you', 'i am', 'sir toby', 'of syracuse', 'quirk sir', 'quintus if', 'quintus martius', 'quit thee', 'quit their']\n",
            "The most informative terms for neg are: ['the gods', 'art thou', 'the moor', 'give me', 'lady macbeth', 'my lord', 'to the', 'in his', 'know not', 'exeunt scene', 'caesar s', 'quirks and', 'quintus martius', 'quit thee', 'quit their', 'quit them', 'quit this', 'quit thy', 'quit with', 'quit you']\n",
            "----------L2 Norm-----------\n",
            "The model's average accuracy is 0.807692\n",
            "The most informative terms for pos are: ['the duke', 'sir toby', 'i am', 'if you', 'and i', 'princess of', 'i pray', 'of france', 'sir i', 'she is', 'of syracuse', 'a good', 'in love', 'of a', 'to her', 'i will', 'the king', 'my love', 'antipholus of', 'you will']\n",
            "The most informative terms for neg are: ['my lord', 'to the', 'the gods', 'lady macbeth', 'caesar s', 'the people', 'good night', 'with his', 'of rome', 'the moor', 'art thou', 'of our', 'to thee', 'in his', 'know not', 'first senator', 'give me', 'the emperor', 'exeunt scene', 'there s']\n"
          ]
        }
      ]
    },
    {
      "cell_type": "markdown",
      "source": [
        "**TODO**: Based on the most informative features in the output of the classifier evaluation, what do these classifiers tell you about the differences between comedy and tragedy?"
      ],
      "metadata": {
        "id": "HztZ_0V55M_K"
      }
    },
    {
      "cell_type": "markdown",
      "source": [
        "**Interpretation of Classifier Features**\n",
        "\n",
        "With the basic count features, comedies are associated with words tied to lighter, social, and romantic settings. Character names like Helena, Prospero, Leontes, Hermia, and Lysander appear often, along with conversational words such as you, sir, your, me. These suggest the more personal and witty interactions typical of comedies. In contrast, tragedies highlight darker themes and characters: Iago, Othello, Brutus, Lear, Cassio, Desdemona, Caesar, Romeo. These names anchor the tragic plays in betrayal, political conflict, and death. The presence of words like him, his, thy also reflects the more formal, weighty tone of tragedies.\n",
        "\n",
        "The interesting bigram features give even richer insights. In comedies, phrases like “the duke,” “sir toby,” “my love,” “in love,” “if you,” and “I pray” point to themes of love, mistaken identity, noble households, and humor. Specific references such as “sir toby” (from Twelfth Night) or “of syracuse” (from The Comedy of Errors) highlight comedic characters and settings. By contrast, tragedies emphasize expressions of power, death, and fate. Bigrams like “lady macbeth,” “my lord,” “the gods,” “of rome,” and “the moor” strongly evoke Shakespeare’s tragic figures and darker subject matter. Even stage directions like “exeunt scene” appear more often in tragedies, reflecting their heavier dramatic structure.\n",
        "\n",
        "Overall, the classifiers suggest that comedies are marked by language of love, nobility, and playful dialogue, while tragedies are defined by death, politics, betrayal, and fate. These linguistic patterns align closely with how we understand Shakespeare’s genres, showing that even a simple bag-of-words or bigram model can uncover meaningful thematic distinctions."
      ],
      "metadata": {
        "id": "TP7ozzRV0Ez8"
      }
    }
  ]
}