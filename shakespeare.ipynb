{
  "nbformat": 4,
  "nbformat_minor": 0,
  "metadata": {
    "colab": {
      "name": "PS1-Shakespeare.ipynb",
      "provenance": [],
      "gpuType": "V5E1",
      "include_colab_link": true
    },
    "kernelspec": {
      "name": "python3",
      "display_name": "Python 3"
    },
    "accelerator": "TPU"
  },
  "cells": [
    {
      "cell_type": "markdown",
      "metadata": {
        "id": "view-in-github",
        "colab_type": "text"
      },
      "source": [
        "<a href=\"https://colab.research.google.com/github/sirius70/NLP_HW2/blob/main/shakespeare.ipynb\" target=\"_parent\"><img src=\"https://colab.research.google.com/assets/colab-badge.svg\" alt=\"Open In Colab\"/></a>"
      ]
    },
    {
      "cell_type": "markdown",
      "metadata": {
        "id": "ghmXbcymaHxC"
      },
      "source": [
        "# Interpreting Classifier Weights\n",
        "\n",
        "In this experiment, you will train models to distringuish examples of two different genres of Shakespeare's plays: comedies and tragedies. (We'll ignore the histories, sonnets, etc.) Since he died four hundred years ago, Shakespeare has not written any more plays—although scraps of various other works have come to light. We are not, therefore, interested in building models simply to help categorize an unbounded stream of future documents, as we might be in other applications of text classification; rather, we are interested in what a classifier might have to tell us about what we mean by the terms “comedy” and “tragedy”.\n",
        "\n",
        "You will start by copying and running your `createBasicFeatures` function from the experiment with movie reviews. Do the features the classifier focuses on tell you much about comedy and tragedy in general?\n",
        "\n",
        "You will then implement another featurization function `createInterestingFeatures`, which will focus on only those features you think are informative for distinguishing between comedy and tragedy. Accuracy on leave-one-out cross-validation may go up, but it more important to look at the features given the highest weight by the classifier. Interpretability in machine learning, of course, may be harder to define than accuracy—although accuracy at some tasks is hard enoough."
      ]
    },
    {
      "cell_type": "code",
      "metadata": {
        "id": "AdVS67_HNRmW"
      },
      "source": [
        "import json\n",
        "import requests\n",
        "import re\n",
        "import numpy as np\n",
        "from scipy import sparse\n",
        "from collections import Counter\n",
        "from scipy.sparse import csr_matrix\n",
        "from sklearn.linear_model import LogisticRegression\n",
        "from sklearn.model_selection import cross_validate,LeaveOneOut"
      ],
      "execution_count": 1,
      "outputs": []
    },
    {
      "cell_type": "code",
      "metadata": {
        "id": "PzjMY8fYQbB6"
      },
      "source": [
        "#read in the shakespeare corpus\n",
        "def readShakespeare():\n",
        "  raw = requests.get(\"https://raw.githubusercontent.com/dasmiq/cs6120-assignment2/refs/heads/main/shakespeare_plays.json\").text.strip()\n",
        "  corpus = [json.loads(line) for line in raw.split(\"\\n\")]\n",
        "\n",
        "  #remove histories from the data, as we're only working with tragedies and comedies\n",
        "  corpus = [entry for entry in corpus if entry[\"genre\"] != \"history\"]\n",
        "  return corpus"
      ],
      "execution_count": 2,
      "outputs": []
    },
    {
      "cell_type": "markdown",
      "metadata": {
        "id": "v0r3oL3TdHIU"
      },
      "source": [
        "This is where you will implement two functions to featurize the data:"
      ]
    },
    {
      "cell_type": "code",
      "source": [
        "def tokenize(text):\n",
        "    \"\"\"\n",
        "    Tokenizes text into words that contain at least one alphabetic character.\n",
        "    Splits on underscores and other non-word characters.\n",
        "    \"\"\"\n",
        "    # Replace underscores with spaces so they're split\n",
        "    text = text.replace(\"_\", \" \")\n",
        "\n",
        "    # Match tokens with at least one alphabetic character\n",
        "    return re.findall(r'\\b\\w*[a-zA-Z]\\w*\\b', text.lower())"
      ],
      "metadata": {
        "id": "ltbl5CE1rMWL"
      },
      "execution_count": 3,
      "outputs": []
    },
    {
      "cell_type": "code",
      "source": [
        "# TODO: Implement createBasicFeatures\n",
        "# NB: The current contents are for testing only\n",
        "# This function should return:\n",
        "#  -a sparse numpy matrix of document features\n",
        "#  -a list of the correct genre for each document\n",
        "#  -a list of the vocabulary used by the features, such that the ith term of the\n",
        "#    list is the word whose counts appear in the ith column of the matrix.\n",
        "\n",
        "# This function should create a feature representation using all tokens that\n",
        "# contain an alphabetic character.\n",
        "\n",
        "def createBasicFeatures(corpus):\n",
        "    # Extract texts and genres\n",
        "    texts = [entry[\"text\"] for entry in corpus]\n",
        "    genres = [entry[\"genre\"] for entry in corpus]\n",
        "\n",
        "    # Step 1: Build vocabulary from all documents\n",
        "    vocab_set = set()\n",
        "    tokenized_docs = []\n",
        "\n",
        "    for text in texts:\n",
        "        tokens = tokenize(text)\n",
        "        vocab_set.update(tokens)\n",
        "        tokenized_docs.append(tokens)\n",
        "\n",
        "    # Step 2: Create sorted vocabulary and word-to-index mapping\n",
        "    vocab = sorted(list(vocab_set))\n",
        "    word_to_idx = {word: idx for idx, word in enumerate(vocab)}\n",
        "\n",
        "    # Step 3: Build sparse matrix\n",
        "    row_indices = []\n",
        "    col_indices = []\n",
        "    data = []\n",
        "\n",
        "    for doc_idx, tokens in enumerate(tokenized_docs):\n",
        "        word_counts = Counter(tokens)\n",
        "        for word, count in word_counts.items():\n",
        "            if word in word_to_idx:\n",
        "                row_indices.append(doc_idx)\n",
        "                col_indices.append(word_to_idx[word])\n",
        "                data.append(count)\n",
        "\n",
        "    X = sparse.csr_matrix((data, (row_indices, col_indices)),\n",
        "                          shape=(len(texts), len(vocab)))\n",
        "\n",
        "    return X, genres, vocab"
      ],
      "metadata": {
        "id": "NIztl6YirgEO"
      },
      "execution_count": 4,
      "outputs": []
    },
    {
      "cell_type": "code",
      "source": [
        "# TODO: Implement createInterestingFeatures. Describe your features and what\n",
        "# they might tell you about the difference between comedy and tragedy.\n",
        "# This function can add other features you want that help classification\n",
        "# accuracy, such as bigrams, word prefixes and suffixes, etc.\n",
        "\n",
        "\"\"\"\n",
        "    Creates bigram features for classification.\n",
        "\n",
        "    Features:\n",
        "      - Only bigrams (sequences of two consecutive words).\n",
        "      - Captures short phrases that may signal genre differences.\n",
        "        For example:\n",
        "            - Comedy might have bigrams like \"funny joke\", \"haha laugh\".\n",
        "            - Tragedy might have bigrams like \"death scene\", \"dark fate\".\n",
        "\n",
        "    Returns:\n",
        "      - X: sparse matrix of bigram features\n",
        "      - y: list of correct genres (labels)\n",
        "      - vocab: list of bigram features in the vocabulary\n",
        "  \"\"\"\n",
        "\n",
        "def createInterestingFeatures(corpus):\n",
        "    texts = [entry[\"text\"] for entry in corpus]\n",
        "    genres = [entry[\"genre\"] for entry in corpus]\n",
        "\n",
        "    # Step 1: build vocabulary manually (only bigrams)\n",
        "    vocab_counter = Counter()\n",
        "    tokenized_docs = []\n",
        "\n",
        "    for text in texts:\n",
        "        tokens = tokenize(text)\n",
        "        bigrams = [f\"{tokens[i]} {tokens[i+1]}\" for i in range(len(tokens)-1)]\n",
        "        vocab_counter.update(bigrams)\n",
        "        tokenized_docs.append(bigrams)\n",
        "\n",
        "    # Step 2: build vocabulary (include all bigrams)\n",
        "    vocab = list(vocab_counter.keys())\n",
        "    vocab_index = {tok: i for i, tok in enumerate(vocab)}\n",
        "\n",
        "    # Step 3: build sparse feature matrix\n",
        "    row, col, data = [], [], []\n",
        "    for doc_id, doc in enumerate(tokenized_docs):\n",
        "        counts = Counter([tok for tok in doc if tok in vocab_index])\n",
        "        for tok, cnt in counts.items():\n",
        "            row.append(doc_id)\n",
        "            col.append(vocab_index[tok])\n",
        "            data.append(cnt)\n",
        "\n",
        "    X = csr_matrix((data, (row, col)), shape=(len(texts), len(vocab)))\n",
        "\n",
        "    return X, genres, vocab\n",
        "\n"
      ],
      "metadata": {
        "id": "1vtqqeajtcpy"
      },
      "execution_count": 5,
      "outputs": []
    },
    {
      "cell_type": "code",
      "metadata": {
        "id": "KfTBqBltXe7Y"
      },
      "source": [
        "#given a numpy matrix representation of the features for the training set, the\n",
        "# vector of true classes for each example, and the vocabulary as described\n",
        "# above, this computes the accuracy of the model using leave one out cross\n",
        "# validation and reports the most indicative features for each class\n",
        "def evaluateModel(X,y,vocab,penalty=\"l1\"):\n",
        "  #create and fit the model\n",
        "  model = LogisticRegression(penalty=penalty,solver=\"liblinear\")\n",
        "  results = cross_validate(model,X,y,cv=LeaveOneOut())\n",
        "\n",
        "  #determine the average accuracy\n",
        "  scores = results[\"test_score\"]\n",
        "  avg_score = sum(scores)/len(scores)\n",
        "\n",
        "  #determine the most informative features\n",
        "  # this requires us to fit the model to everything, because we need a\n",
        "  # single model to draw coefficients from, rather than 26\n",
        "  model.fit(X,y)\n",
        "  neg_class_prob_sorted = model.coef_[0, :].argsort()\n",
        "  pos_class_prob_sorted = (-model.coef_[0, :]).argsort()\n",
        "\n",
        "  termsToTake = 20\n",
        "  pos_indicators = [vocab[i] for i in neg_class_prob_sorted[:termsToTake]]\n",
        "  neg_indicators = [vocab[i] for i in pos_class_prob_sorted[:termsToTake]]\n",
        "\n",
        "  return avg_score,pos_indicators,neg_indicators\n",
        "\n",
        "def runEvaluation(X,y,vocab):\n",
        "  print(\"----------L1 Norm-----------\")\n",
        "  avg_score,pos_indicators,neg_indicators = evaluateModel(X,y,vocab,\"l1\")\n",
        "  print(\"The model's average accuracy is %f\"%avg_score)\n",
        "  print(\"The most informative terms for pos are: %s\"%pos_indicators)\n",
        "  print(\"The most informative terms for neg are: %s\"%neg_indicators)\n",
        "  #this call will fit a model with L2 normalization\n",
        "  print(\"----------L2 Norm-----------\")\n",
        "  avg_score,pos_indicators,neg_indicators = evaluateModel(X,y,vocab,\"l2\")\n",
        "  print(\"The model's average accuracy is %f\"%avg_score)\n",
        "  print(\"The most informative terms for pos are: %s\"%pos_indicators)\n",
        "  print(\"The most informative terms for neg are: %s\"%neg_indicators)\n"
      ],
      "execution_count": 7,
      "outputs": []
    },
    {
      "cell_type": "code",
      "metadata": {
        "id": "mtlbg_aqdcW_"
      },
      "source": [
        "corpus = readShakespeare()"
      ],
      "execution_count": 8,
      "outputs": []
    },
    {
      "cell_type": "markdown",
      "metadata": {
        "id": "vpCqIhiqdhen"
      },
      "source": [
        "Run the following to train and evaluate two models with basic features:"
      ]
    },
    {
      "cell_type": "code",
      "metadata": {
        "id": "4IpJ7PKjvc8I",
        "outputId": "be76f5a4-b138-4e7f-e981-867e4821b6e4",
        "colab": {
          "base_uri": "https://localhost:8080/"
        }
      },
      "source": [
        "X,y,vocab = createBasicFeatures(corpus)\n",
        "runEvaluation(X, y, vocab)"
      ],
      "execution_count": 9,
      "outputs": [
        {
          "output_type": "stream",
          "name": "stdout",
          "text": [
            "----------L1 Norm-----------\n",
            "The model's average accuracy is 0.615385\n",
            "The most informative terms for pos are: ['helena', 'prospero', 'duke', 'you', 'sir', 'i', 'leontes', 'a', 'of', 'your', 'presenteth', 'preserved', 'pretty', 'prettiness', 'prettily', 'prettiest', 'prettier', 'presentment', 'presently', 'presenting']\n",
            "The most informative terms for neg are: ['him', 's', 'iago', 'imogen', 'brutus', 'lear', 'o', 'our', 'rom', 'what', 'ham', 'and', 'thy', 'the', 'prescription', 'pretense', 'pretending', 'pretended', 'presented', 'presentation']\n",
            "----------L2 Norm-----------\n",
            "The model's average accuracy is 0.769231\n",
            "The most informative terms for pos are: ['i', 'you', 'duke', 'prospero', 'a', 'helena', 'your', 'antonio', 'sir', 'leontes', 'hermia', 'for', 'lysander', 'ariel', 'sebastian', 'demetrius', 'camillo', 'stephano', 'me', 'parolles']\n",
            "The most informative terms for neg are: ['iago', 'othello', 's', 'him', 'imogen', 'what', 'lear', 'brutus', 'his', 'cassio', 'o', 'ham', 'our', 'desdemona', 'rom', 'romeo', 'posthumus', 'nurse', 'caesar', 'thy']\n"
          ]
        }
      ]
    },
    {
      "cell_type": "markdown",
      "metadata": {
        "id": "_FmW9F6ZdoyM"
      },
      "source": [
        "Run the following to train and evaluate two models with features that are interesting for distinguishing comedy and tragedy:"
      ]
    },
    {
      "cell_type": "code",
      "metadata": {
        "id": "BW0Ajs2MdtIC",
        "outputId": "b130d66c-dad2-4597-ac8c-ffae16d8105a",
        "colab": {
          "base_uri": "https://localhost:8080/"
        }
      },
      "source": [
        "X,y,vocab = createInterestingFeatures(corpus)\n",
        "runEvaluation(X, y, vocab)"
      ],
      "execution_count": 10,
      "outputs": [
        {
          "output_type": "stream",
          "name": "stdout",
          "text": [
            "----------L1 Norm-----------\n",
            "The model's average accuracy is 0.730769\n",
            "The most informative terms for pos are: ['not a', 'and i', 'me and', 'which is', 'the duke', 'she is', 'if you', 'you have', 'to me', 'i am', 'my love', 'the king', 'as you', 'sir toby', 'of syracuse', 'and so', 'all slops', 'bene gallants', 'no appearance', 'appearance of']\n",
            "The most informative terms for neg are: ['the gods', 'art thou', 'the moor', 'give me', 'lady macbeth', 'my lord', 'to the', 'know not', 'in his', 'to thee', 'exeunt scene', 'caesar s', 'no doublet', 'strange disguises', 'disguises as', 'dutchman to', 'frenchman to', 'two countries', 'countries at', 'once as']\n",
            "----------L2 Norm-----------\n",
            "The model's average accuracy is 0.807692\n",
            "The most informative terms for pos are: ['the duke', 'sir toby', 'i am', 'if you', 'and i', 'princess of', 'i pray', 'of france', 'sir i', 'she is', 'of syracuse', 'a good', 'in love', 'of a', 'to her', 'i will', 'the king', 'my love', 'antipholus of', 'you will']\n",
            "The most informative terms for neg are: ['my lord', 'to the', 'the gods', 'lady macbeth', 'caesar s', 'the people', 'good night', 'with his', 'of rome', 'the moor', 'art thou', 'of our', 'to thee', 'in his', 'know not', 'first senator', 'give me', 'the emperor', 'exeunt scene', 'there s']\n"
          ]
        }
      ]
    },
    {
      "cell_type": "markdown",
      "source": [
        "**TODO**: Based on the most informative features in the output of the classifier evaluation, what do these classifiers tell you about the differences between comedy and tragedy?"
      ],
      "metadata": {
        "id": "HztZ_0V55M_K"
      }
    },
    {
      "cell_type": "markdown",
      "source": [
        "**Interpretation of Classifier Features**\n",
        "\n",
        "The classifier’s most informative features reveal clear differences between Shakespeare’s comedies and tragedies. In comedies, words like Helena, Prospero, Duke, and phrases such as “the duke”, “i am”, and “my love” are common. These features highlight characters engaged in social interactions, romance, and playful or clever situations, which are central to comedic plots. The language tends to be lighter, conversational, and relational, reflecting the humor, misunderstandings, and courtly dynamics that drive these stories.\n",
        "\n",
        "In tragedies, by contrast, words like Iago, Ham, Brutus, and phrases such as “my lord”, “the gods”, and “lady macbeth” dominate. This points to more formal, serious dialogue, often dealing with authority, fate, or moral dilemmas. Tragedies use weighty, somber language, emphasizing tension, conflict, and consequence. Comparing L1 and L2 norms, L2 captures more frequent stylistic patterns, highlighting recurring structures in speech that distinguish the genres further.\n",
        "\n",
        "Overall, the model shows that Shakespeare’s comedies and tragedies are not only defined by the characters they feature but also by the tone, style, and purpose of their dialogue, reflecting the different worlds these genres inhabit."
      ],
      "metadata": {
        "id": "TP7ozzRV0Ez8"
      }
    }
  ]
}