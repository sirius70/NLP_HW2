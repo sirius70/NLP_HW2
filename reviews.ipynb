{
  "nbformat": 4,
  "nbformat_minor": 0,
  "metadata": {
    "colab": {
      "name": "PS1-Reviews.ipynb",
      "provenance": [],
      "gpuType": "V5E1",
      "include_colab_link": true
    },
    "kernelspec": {
      "name": "python3",
      "display_name": "Python 3"
    },
    "accelerator": "TPU"
  },
  "cells": [
    {
      "cell_type": "markdown",
      "metadata": {
        "id": "view-in-github",
        "colab_type": "text"
      },
      "source": [
        "<a href=\"https://colab.research.google.com/github/sirius70/NLP_HW2/blob/main/reviews.ipynb\" target=\"_parent\"><img src=\"https://colab.research.google.com/assets/colab-badge.svg\" alt=\"Open In Colab\"/></a>"
      ]
    },
    {
      "cell_type": "markdown",
      "metadata": {
        "id": "Jc2R3x6QSIFi"
      },
      "source": [
        "# Predicting Sentiment Labels\n",
        "\n",
        "In this experiment, you will explore the accuracy of sentiment classificaiton using different feature representations of text documents.\n",
        "\n",
        "First, you will implement `createBasicFeatures`, which creates a sparse matrix representation of a collection of documents.  As we discussed in class, many classification models represent a document as a sparse vector of of features and their weights. Weights could be boolean, counts, tf-idf values, or other functions of the document. In a linear model, we then combine the document vectors with the candidate output classes and learn weights for each of the feature-class pairs. This last step is implemented for you.\n",
        "\n",
        "For this exercise, you should have a feature for each word containing at least one alphabetic character. You may use the `numpy` and `sklearn` packages to help with implementing a sparse matrix.\n",
        "\n",
        "Then, you will implement `createFancyFeatures`, which can specify at any other features you choose to help improve performance on the classification task.\n",
        "\n",
        "The two code blocks at the end train and evaluate two models—logistic regression with L1 and L2 regularization—using your featurization functions. Besides held-out classification accuracy with 10-fold cross-validation, you will also see the features in each class given high weights by the model.\n",
        "\n",
        "There are many helpful resources online for getting up to speed with vector representations of documents. One example is the first two chapters of Delip Rao and Brian McMahan, _Natural Language Processing with PyTorch_, O'Reilly, 2019.  You should be able to <a href=\"https://learning.oreilly.com/library/view/natural-language-processing/9781491978221/\">read it online</a> via the Northeastern Library's subscription using a <tt>northeastern.edu</tt> email address."
      ]
    },
    {
      "cell_type": "code",
      "metadata": {
        "id": "AdVS67_HNRmW"
      },
      "source": [
        "import json\n",
        "import requests\n",
        "from sklearn.linear_model import LogisticRegression\n",
        "from sklearn.model_selection import cross_validate,LeaveOneOut,KFold\n",
        "import numpy as np\n",
        "from sklearn.feature_extraction.text import TfidfVectorizer, CountVectorizer\n",
        "from collections import Counter\n",
        "import re\n",
        "from scipy import sparse"
      ],
      "execution_count": 1,
      "outputs": []
    },
    {
      "cell_type": "code",
      "metadata": {
        "id": "PzjMY8fYQbB6",
        "cellView": "both"
      },
      "source": [
        "# read in the movie review corpus\n",
        "def readReviews():\n",
        "  raw = requests.get(\"https://raw.githubusercontent.com/dasmiq/cs6120-assignment2/refs/heads/main/cornell_reviews.json\").text.strip()\n",
        "  corpus = [json.loads(line) for line in raw.split(\"\\n\")]\n",
        "\n",
        "  return corpus"
      ],
      "execution_count": 2,
      "outputs": []
    },
    {
      "cell_type": "markdown",
      "metadata": {
        "id": "Qvd3I95FT01D"
      },
      "source": [
        "This is where you will implement two functions to featurize the data."
      ]
    },
    {
      "cell_type": "code",
      "source": [
        "def tokenize(text):\n",
        "    \"\"\"\n",
        "    Tokenizes text into words that contain at least one alphabetic character.\n",
        "    Splits on underscores and other non-word characters.\n",
        "    \"\"\"\n",
        "    # Replace underscores with spaces so they're split\n",
        "    text = text.replace(\"_\", \" \")\n",
        "\n",
        "    # Match tokens with at least one alphabetic character\n",
        "    return re.findall(r'\\b\\w*[a-zA-Z]\\w*\\b', text.lower())"
      ],
      "metadata": {
        "id": "R2pk7KTs5mnl"
      },
      "execution_count": 3,
      "outputs": []
    },
    {
      "cell_type": "code",
      "metadata": {
        "id": "039fPQcF7OkN"
      },
      "source": [
        "# TODO: Implement createBasicFeatures\n",
        "# NB: The current contents are for testing only\n",
        "# This function should return:\n",
        "#  -a sparse numpy matrix of document features\n",
        "#  -a list of the correct class for each document\n",
        "#  -a list of the vocabulary used by the features, such that the ith term of the\n",
        "#    list is the word whose counts appear in the ith column of the matrix.\n",
        "\n",
        "# This function should create a feature representation using all tokens that\n",
        "# contain an alphabetic character.\n",
        "def createBasicFeatures(corpus):\n",
        "    # Extract texts and classes\n",
        "    texts = [entry[\"text\"] for entry in corpus]\n",
        "    classes = [entry[\"class\"] for entry in corpus]\n",
        "\n",
        "    # Step 1: Build vocabulary from all documents\n",
        "    vocab_set = set()\n",
        "    tokenized_docs = []\n",
        "\n",
        "    for text in texts:\n",
        "        tokens = tokenize(text)\n",
        "        vocab_set.update(tokens)\n",
        "        tokenized_docs.append(tokens)\n",
        "\n",
        "    # Step 2: Create sorted vocabulary and word-to-index mapping\n",
        "    vocab = sorted(list(vocab_set))\n",
        "    word_to_idx = {word: idx for idx, word in enumerate(vocab)}\n",
        "\n",
        "    # Step 3: Build sparse matrix\n",
        "    row_indices = []\n",
        "    col_indices = []\n",
        "    data = []\n",
        "\n",
        "    for doc_idx, tokens in enumerate(tokenized_docs):\n",
        "        word_counts = Counter(tokens)\n",
        "        for word, count in word_counts.items():\n",
        "            if word in word_to_idx:\n",
        "                row_indices.append(doc_idx)\n",
        "                col_indices.append(word_to_idx[word])\n",
        "                data.append(count)\n",
        "\n",
        "    X = sparse.csr_matrix((data, (row_indices, col_indices)),\n",
        "                          shape=(len(texts), len(vocab)))\n",
        "\n",
        "    return X, classes, vocab\n"
      ],
      "execution_count": 4,
      "outputs": []
    },
    {
      "cell_type": "code",
      "source": [
        "# TODO: Implement createFancyFeatures andn describe in comments what the\n",
        "# features are and why they might ben helpful.\n",
        "# This function can add other features you want that help classification\n",
        "# accuracy, such as bigrams, word prefixes and suffixes, etc.\n",
        "\n",
        "def createFancyFeatures(corpus):\n",
        "    \"\"\"\n",
        "    Creates a sparse feature matrix with 'fancy' features for sentiment classification.\n",
        "\n",
        "    Features included:\n",
        "    1. Unigrams: single words with at least one alphabetic character.\n",
        "       - Useful because individual words often carry sentiment (e.g., \"good\", \"bad\").\n",
        "    2. Bigrams: sequences of two consecutive words.\n",
        "       - Useful because phrases can capture context and negation (e.g., \"not good\", \"very bad\"),\n",
        "         which single words alone may miss.\n",
        "    \"\"\"\n",
        "    texts = [doc[\"text\"] for doc in corpus]\n",
        "    classes = [doc[\"class\"] for doc in corpus]\n",
        "\n",
        "    tokenized_docs = []\n",
        "    unigram_vocab = set()\n",
        "    bigram_vocab = set()\n",
        "\n",
        "    # Step 1: tokenize and collect unigrams and bigrams\n",
        "    for text in texts:\n",
        "        tokens = tokenize(text)\n",
        "        tokenized_docs.append(tokens)\n",
        "        unigram_vocab.update(tokens)\n",
        "        bigrams = [f\"{tokens[i]} {tokens[i+1]}\" for i in range(len(tokens)-1)]\n",
        "        bigram_vocab.update(bigrams)\n",
        "\n",
        "    # Step 2: combine unigrams + bigrams into final vocab\n",
        "    vocab = sorted(list(unigram_vocab)) + sorted(list(bigram_vocab))\n",
        "    vocab_index = {tok: idx for idx, tok in enumerate(vocab)}\n",
        "\n",
        "    # Step 3: build sparse feature matrix\n",
        "    row, col, data = [], [], []\n",
        "\n",
        "    for doc_id, tokens in enumerate(tokenized_docs):\n",
        "        # Add unigram counts\n",
        "        counts = Counter(tokens)\n",
        "        for tok, cnt in counts.items():\n",
        "            row.append(doc_id)\n",
        "            col.append(vocab_index[tok])\n",
        "            data.append(cnt)\n",
        "        # Add bigram counts\n",
        "        bigrams = [f\"{tokens[i]} {tokens[i+1]}\" for i in range(len(tokens)-1)]\n",
        "        counts_bg = Counter(bigrams)\n",
        "        for bg, cnt in counts_bg.items():\n",
        "            row.append(doc_id)\n",
        "            col.append(vocab_index[bg])\n",
        "            data.append(cnt)\n",
        "\n",
        "    X = sparse.csr_matrix((data, (row, col)), shape=(len(texts), len(vocab)))\n",
        "\n",
        "    return X, classes, vocab\n"
      ],
      "metadata": {
        "id": "zWCw2sYesF_y"
      },
      "execution_count": 6,
      "outputs": []
    },
    {
      "cell_type": "code",
      "metadata": {
        "id": "KfTBqBltXe7Y"
      },
      "source": [
        "# given a numpy matrix representation of the features for the training set, the\n",
        "# vector of true classes for each example, and the vocabulary as described\n",
        "# above, this computes the accuracy of the model using leave one out cross\n",
        "# validation and reports the most indicative features for each class\n",
        "\n",
        "def evaluateModel(X,y,vocab,penalty=\"l1\"):\n",
        "  # create and fit the model\n",
        "  model = LogisticRegression(penalty=penalty,solver=\"liblinear\")\n",
        "  results = cross_validate(model,X,y,cv=KFold(n_splits=10, shuffle=True, random_state=1))\n",
        "\n",
        "  # determine the average accuracy\n",
        "  scores = results[\"test_score\"]\n",
        "  avg_score = sum(scores)/len(scores)\n",
        "\n",
        "  # determine the most informative features\n",
        "  # this requires us to fit the model to everything, because we need a\n",
        "  # single model to draw coefficients from, rather than 26\n",
        "  model.fit(X,y)\n",
        "  class0_weight_sorted = model.coef_[0, :].argsort()\n",
        "  class1_weight_sorted = (-model.coef_[0, :]).argsort()\n",
        "\n",
        "  termsToTake = 20\n",
        "  class0_indicators = [vocab[i] for i in class0_weight_sorted[:termsToTake]]\n",
        "  class1_indicators = [vocab[i] for i in class1_weight_sorted[:termsToTake]]\n",
        "\n",
        "  if model.classes_[0] == \"pos\":\n",
        "    return avg_score,class0_indicators,class1_indicators\n",
        "  else:\n",
        "    return avg_score,class1_indicators,class0_indicators\n",
        "\n",
        "def runEvaluation(X,y,vocab):\n",
        "  print(\"----------L1 Norm-----------\")\n",
        "  avg_score,pos_indicators,neg_indicators = evaluateModel(X,y,vocab,\"l1\")\n",
        "  print(\"The model's average accuracy is %f\"%avg_score)\n",
        "  print(\"The most informative terms for pos are: %s\"%pos_indicators)\n",
        "  print(\"The most informative terms for neg are: %s\"%neg_indicators)\n",
        "  #this call will fit a model with L2 normalization\n",
        "  print(\"----------L2 Norm-----------\")\n",
        "  avg_score,pos_indicators,neg_indicators = evaluateModel(X,y,vocab,\"l2\")\n",
        "  print(\"The model's average accuracy is %f\"%avg_score)\n",
        "  print(\"The most informative terms for pos are: %s\"%pos_indicators)\n",
        "  print(\"The most informative terms for neg are: %s\"%neg_indicators)"
      ],
      "execution_count": 7,
      "outputs": []
    },
    {
      "cell_type": "code",
      "metadata": {
        "id": "VWWq5VgmECKV"
      },
      "source": [
        "corpus = readReviews()"
      ],
      "execution_count": 8,
      "outputs": []
    },
    {
      "cell_type": "markdown",
      "metadata": {
        "id": "72OUet02TjBo"
      },
      "source": [
        "Run the following to train and evaluate two models using basic features:"
      ]
    },
    {
      "cell_type": "code",
      "metadata": {
        "id": "4IpJ7PKjvc8I",
        "colab": {
          "base_uri": "https://localhost:8080/"
        },
        "outputId": "98d8c869-aca8-45ef-9b93-9d9ff22ffded"
      },
      "source": [
        "X,y,vocab = createBasicFeatures(corpus)\n",
        "runEvaluation(X, y, vocab)"
      ],
      "execution_count": 9,
      "outputs": [
        {
          "output_type": "stream",
          "name": "stdout",
          "text": [
            "----------L1 Norm-----------\n",
            "The model's average accuracy is 0.826500\n",
            "The most informative terms for pos are: ['flaws', 'memorable', 'terrific', 'sherri', 'enjoyable', 'perfectly', 'edge', 'masterpiece', 'excellent', 'gas', 'overall', 'using', 'fun', 'quite', 'follows', 'solid', 'command', 'holds', 'different', 'loved']\n",
            "The most informative terms for neg are: ['waste', 'mess', 'ridiculous', 'lame', 'worst', 'headed', 'awful', 'cheap', 'unfortunately', 'write', 'boring', 'superior', 'tedious', 'bad', 'jesse', 'terrible', 'poor', 'looks', 'maybe', 'flat']\n",
            "----------L2 Norm-----------\n",
            "The model's average accuracy is 0.834000\n",
            "The most informative terms for pos are: ['fun', 'back', 'great', 'quite', 'well', 'excellent', 'overall', 'seen', 'american', 'perfectly', 'memorable', 'yet', 'terrific', 'job', 'pulp', 'true', 'performances', 'very', 'solid', 'different']\n",
            "The most informative terms for neg are: ['bad', 'unfortunately', 'worst', 'waste', 'nothing', 'only', 'script', 'boring', 'awful', 'plot', 'reason', 'poor', 'looks', 'supposed', 'mess', 'lame', 'women', 'should', 'anyway', 'maybe']\n"
          ]
        }
      ]
    },
    {
      "cell_type": "markdown",
      "metadata": {
        "id": "4sjxLL2PTrJi"
      },
      "source": [
        "Run the following to train and evaluate two models using extended features:"
      ]
    },
    {
      "cell_type": "code",
      "metadata": {
        "id": "1iHudrPb5NPY",
        "colab": {
          "base_uri": "https://localhost:8080/"
        },
        "outputId": "e2dc9483-185b-4761-a481-22c2d8313d66"
      },
      "source": [
        "X,y,vocab = createFancyFeatures(corpus)\n",
        "runEvaluation(X, y, vocab)"
      ],
      "execution_count": 10,
      "outputs": [
        {
          "output_type": "stream",
          "name": "stdout",
          "text": [
            "----------L1 Norm-----------\n",
            "The model's average accuracy is 0.831500\n",
            "The most informative terms for pos are: ['even if', 'flaws', 'memorable', 'terrific', 'overall', 'due to', 'the more', 'masterpiece', 'follows', 'seen', 'by a', 'her husband', 'gas', 'works', 'others', 'loved', 'great', 'filmmaking', 'as much', 'just about']\n",
            "The most informative terms for neg are: ['ridiculous', 'waste', 'unfortunately', 'mess', 'worst', 'awful', 'cheap', 'boring', 'should have', 'lame', 'headed', 'poor', 'bad', 'write', 'maybe', 'designed', 'nowhere', 'terrible', 'superior', 'metro']\n",
            "----------L2 Norm-----------\n",
            "The model's average accuracy is 0.852000\n",
            "The most informative terms for pos are: ['great', 'well', 'fun', 'seen', 'very', 'back', 'also', 'quite', 'many', 'people', 'yet', 'american', 'life', 'while', 'see', 'the two', 'job', 'excellent', 'most', 'perfectly']\n",
            "The most informative terms for neg are: ['bad', 'only', 'unfortunately', 'worst', 'plot', 'nothing', 'any', 'boring', 'waste', 'script', 'poor', 'looks', 'here', 'have', 'to be', 'on', 'director', 'as a', 'awful', 'the worst']\n"
          ]
        }
      ]
    },
    {
      "cell_type": "markdown",
      "source": [
        "**TODO**: Briefly comment on your results. You do _not_ need to beat the basic features model to get full credit."
      ],
      "metadata": {
        "id": "hz4n7U-XsTE_"
      }
    }
  ]
}